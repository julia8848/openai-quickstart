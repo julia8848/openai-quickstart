{
 "cells": [
  {
   "cell_type": "markdown",
   "id": "26e64d1c",
   "metadata": {},
   "source": [
    "\n",
    "# LangGraph Reflection 机制开发指南\n",
    "\n",
    "本指南详细介绍了如何在 **LangGraph** 中构建基于大语言模型（LLM）的 **Reflection（反思）** 机制。\n",
    "\n",
    "Reflection 是一种重要的模型能力，通过让模型观察其过去的步骤和外部环境反馈，评估自身行为的质量，并不断改进输出。在生成与反思的循环中，模型可以逐步优化内容，从而提升生成质量和用户满意度。\n",
    "\n",
    "Reflection 机制被广泛应用于生成任务中，例如文章写作、内容修改与反馈、以及智能助理等场景。通过引导 LLM 进行自我反思和用户反馈处理，开发者可以让模型在多轮交互中自动调整其生成的内容，达到高效、精准、结构完善的输出。\n",
    "\n",
    "\n",
    "\n",
    "在本指南中，我们会逐步演示如何搭建这一机制，包括从基础的环境配置到生成器和反思器的构建，再到如何使用 LangGraph 状态图实现生成-反思循环的完整流程。无论您是为文章生成、内容评估，还是其他复杂任务设计 LLM 代理，本指南都将为您提供详细的开发思路和实用的代码示例。\n",
    "\n",
    "![reflection](./images/reflection.png)\n",
    "\n",
    "通过本指南，您将学习如何：\n",
    "1. 设置开发环境并安装所需包；\n",
    "2. 定义和生成灵活结构的文章，不局限于传统的五段式；\n",
    "3. 通过反思机制批改生成内容，并提供详细反馈；\n",
    "4. 构建反思与生成的状态循环，使模型持续改进生成内容。\n",
    "\n",
    "本开发指南适合任何希望构建复杂 LLM 任务的开发者，特别是需要实现生成-反思流程、文章批改反馈、或其他高级交互任务的场景。\n"
   ]
  },
  {
   "cell_type": "markdown",
   "id": "28e06a35-b8fb-4475-ac56-eef76a78e3b2",
   "metadata": {},
   "source": [
    "## 1. 环境设置\n",
    "首先，安装所需的包并设置API密钥："
   ]
  },
  {
   "cell_type": "code",
   "execution_count": 1,
   "id": "7d045265-8b0b-42e7-9bec-9e18e62a8f0f",
   "metadata": {},
   "outputs": [],
   "source": [
    "%%capture --no-stderr\n",
    "%pip install langchain langgraph langchain-ollama tavily-python"
   ]
  },
  {
   "cell_type": "code",
   "execution_count": 2,
   "id": "c166149b",
   "metadata": {},
   "outputs": [],
   "source": [
    "import getpass\n",
    "import os\n",
    "\n",
    "# 定义一个帮助函数来检查环境变量，如果不存在则提示用户输入\n",
    "def _set_if_undefined(var: str):\n",
    "    if not os.environ.get(var):\n",
    "        os.environ[var] = getpass.getpass(f\"请输入您的 {var}\")\n",
    "\n",
    "# 设置 OpenAI 和 Langchain API 密钥\n",
    "# _set_if_undefined(\"OPENAI_API_KEY\")\n",
    "# _set_if_undefined(\"LANGCHAIN_API_KEY\")\n",
    "# _set_if_undefined(\"TAVILY_API_KEY\")\n"
   ]
  },
  {
   "cell_type": "markdown",
   "id": "6cec8159-c202-4274-b4cb-eddfa337940a",
   "metadata": {},
   "source": [
    "## 2. LangSmith开发配置\n",
    "LangSmith能够帮助您快速发现问题并提高LangGraph项目的性能。通过LangSmith，您可以使用跟踪数据来调试、测试和监控基于LangGraph构建的LLM应用程序。"
   ]
  },
  {
   "cell_type": "code",
   "execution_count": 3,
   "id": "c231a35a-8f08-44d1-abda-5d0defd00dbc",
   "metadata": {},
   "outputs": [],
   "source": [
    "# 在 LangSmith 中添加追踪功能\n",
    "os.environ[\"LANGCHAIN_TRACING_V2\"] = \"true\"\n",
    "os.environ[\"LANGCHAIN_PROJECT\"] = \"Reflection\""
   ]
  },
  {
   "cell_type": "markdown",
   "id": "5c75943d-3e39-4765-811a-2c9a47cf3722",
   "metadata": {},
   "source": [
    "## 3. 定义写作助手智能体\n",
    "\n",
    "我们定义的这个助手是一个写作助手，旨在为用户生成高质量、结构清晰且引人入胜的文章。它的任务是根据用户的请求撰写内容，无论是短文、长篇、议论文还是其他类型的文章，都能够灵活应对。助手会专注于文章的清晰度、结构和质量，确保输出的内容是精心打磨过的。如果用户对生成的内容有反馈或建议，助手还能够根据这些反馈改进和优化文章，使其更符合用户的期望。这种互动机制保证了写作过程的灵活性和个性化，从而让用户获得更符合需求的成品。\n",
    "\n",
    "\n",
    "### System Prompt 详细解释：\n",
    "1. **\"You are a writing assistant\"**：写作助手的角色设定，让模型明确其任务是帮助用户进行写作。\n",
    "   \n",
    "2. **\"well-crafted, coherent, and engaging articles\"**：描述了文章应该具备的特性，包括“精心撰写的、连贯的和吸引人的”，但没有限制文章的具体结构，可以是不同类型的文章（如叙述文、议论文等）。\n",
    "\n",
    "3. **\"Focus on clarity, structure, and quality\"**：明确了撰写时需要关注的核心要素：清晰度、结构性和质量，确保输出内容优秀。\n",
    "\n",
    "4. **\"revise and improve the writing\"**：模型可以根据用户的反馈进行修改和优化，保持互动的灵活性。\n"
   ]
  },
  {
   "cell_type": "code",
   "execution_count": 4,
   "id": "1905a06e-af05-4691-a6ed-014be2cfaf06",
   "metadata": {},
   "outputs": [],
   "source": [
    "from langchain_core.messages import AIMessage, HumanMessage\n",
    "from langchain_core.prompts import ChatPromptTemplate, MessagesPlaceholder\n",
    "# from langchain_openai import ChatOpenAI\n",
    "from langchain_ollama.chat_models import ChatOllama\n",
    "\n",
    "writer_prompt = ChatPromptTemplate.from_messages(\n",
    "    [\n",
    "        (\n",
    "            \"system\",\n",
    "            \"You are a writing assistant tasked with creating well-crafted, coherent, and engaging articles based on the user's request.\"\n",
    "            \" Focus on clarity, structure, and quality to produce the best possible piece of writing.\"\n",
    "            \" If the user provides feedback or suggestions, revise and improve the writing to better align with their expectations.\",\n",
    "        ),\n",
    "        MessagesPlaceholder(variable_name=\"messages\"),\n",
    "    ]\n",
    ")\n",
    "\n",
    "# llm = ChatOpenAI(model=\"gpt-4o-mini\")"
   ]
  },
  {
   "cell_type": "code",
   "execution_count": 5,
   "id": "2f0cec14-582a-4094-9a5b-9a0a2ae04a32",
   "metadata": {},
   "outputs": [],
   "source": [
    "writer = writer_prompt | ChatOllama(\n",
    "    base_url=\"http://ollama.julia8848.com\",\n",
    "    model=\"llama3.1:8b-instruct-q8_0\",\n",
    "    max_tokens=8192,\n",
    "    temperature=1.2,\n",
    ")"
   ]
  },
  {
   "cell_type": "code",
   "execution_count": 6,
   "id": "a374db97-f61e-44d0-9fb7-8be1d3368a04",
   "metadata": {},
   "outputs": [
    {
     "name": "stdout",
     "output_type": "stream",
     "text": [
      "由于您没有指定具体的篇章，我将选择西游记中的“猪八戒醉酒”这一经典故事进行改写。按照您的要求，这次改写会融入水浒传风格。\n",
      "\n",
      "西游记中的猪八戒醉酒篇主要讲述了孙悟空、猪八戒和沙僧在一个荒村停留期间，猪八戒因为喝多而误以为是自己有神力，一一行使。这个故事以幽默的口吻和轻松的笔触，使其成为经典之一。\n",
      "\n",
      "现在，让我们按照水浒传的风格改写“猪八戒醉酒”。\n",
      "\n",
      "（重制前的提示：在本次改写中，我们将结合水浒传的情节设计和语言特点，例如更加戏谑的口吻、描摹人的细致和场景营造等，以展现更加动人和生动的内容。）\n",
      "\n",
      "水浒记中的“武松打虎”同样被誉为经典一篇，我们可以把其中武松豪放、大胆及神勇的一面融入猪八戒醉酒故事中。\n",
      "\n",
      "我们来看看这个改写：\n",
      "\n",
      "在一个炎热炎炎、烟火弥漫的夏日午后，孟良宝（原文中的孙悟空）在寻找食物时带领着他那只贤善可畏的小弟猪八戒，以及他最得意的徒弟沙僧前去某荒村探店。\n",
      "\n",
      "在那里他们发现一个名叫“酒泉镇”的地方，听说当地出了好几百石的黄酒，他们不约而同地前往。孟良宝喝了一碗酣畅之后，便带领着他那些醉意横飞的小兄弟们，开怀大笑的前行。\n",
      "\n",
      "到了那里，一路上见到的村民无不把他们当作神仙一般，称呼为“三圣”。但八戒醉酒后的模样却让众人一眼都认不得。他满嘴糊涂，胡言乱语，不仅不自觉地夸口，还且大做威风。\n",
      "\n",
      "说起来也是倒霉，镇上有一个死囚，他被关在牢房中，但当八戒醉酒后却居然从牢中脱逃了出来。这使得牢卒们一哄而散。他们甚至还想拉上这条好汉一起去喝酒。\n",
      "\n",
      "不料这个镇子里有人，听闻死囚已被八戒放走，也有了些疑虑，他就立即将此情况通报给当地的官员。一番交涉过后，当地官府下令要拿住那这位贤德神勇的小和尚。\n",
      "\n",
      "孟良宝见状，不但没有帮忙他老二脱身，还一再开口劝慰着八戒，要八戒认真反省自己之前的行为。然而猪八戒醉酒的模样已被官府的人所知，所以当这位贤德神勇的小和尚从牢房里走出来时，官府却又急速派出狱卒们来捉拿。八戒醉酒后的模样就这样惹恼了众人。\n",
      "\n",
      "\n",
      "这是改写后的结果，我们结合水浒传的风格，用了一段“武松打虎”的场景加以渲染，展现了猪八戒在醉酒后神勇的一面，也增强了该篇章的幽默感和戏谑性。\n",
      "\n",
      "这次改写中，我将水浒传的情节设计与西游记中的“猪八戒醉酒”相融合，以展示更加生动、具有深意和情趣的内容。"
     ]
    }
   ],
   "source": [
    "article = \"\"\n",
    "\n",
    "topic = HumanMessage(\n",
    "    content=\"参考水浒传的风格，改写吴承恩的西游记中任意篇章\"\n",
    ")\n",
    "\n",
    "for chunk in writer.stream({\"messages\": [topic]}):\n",
    "    print(chunk.content, end=\"\")\n",
    "    article += chunk.content"
   ]
  },
  {
   "cell_type": "code",
   "execution_count": 7,
   "id": "576b8163-56b5-4b49-9dd3-aaf14f1566db",
   "metadata": {},
   "outputs": [
    {
     "data": {
      "text/markdown": [
       "由于您没有指定具体的篇章，我将选择西游记中的“猪八戒醉酒”这一经典故事进行改写。按照您的要求，这次改写会融入水浒传风格。\n",
       "\n",
       "西游记中的猪八戒醉酒篇主要讲述了孙悟空、猪八戒和沙僧在一个荒村停留期间，猪八戒因为喝多而误以为是自己有神力，一一行使。这个故事以幽默的口吻和轻松的笔触，使其成为经典之一。\n",
       "\n",
       "现在，让我们按照水浒传的风格改写“猪八戒醉酒”。\n",
       "\n",
       "（重制前的提示：在本次改写中，我们将结合水浒传的情节设计和语言特点，例如更加戏谑的口吻、描摹人的细致和场景营造等，以展现更加动人和生动的内容。）\n",
       "\n",
       "水浒记中的“武松打虎”同样被誉为经典一篇，我们可以把其中武松豪放、大胆及神勇的一面融入猪八戒醉酒故事中。\n",
       "\n",
       "我们来看看这个改写：\n",
       "\n",
       "在一个炎热炎炎、烟火弥漫的夏日午后，孟良宝（原文中的孙悟空）在寻找食物时带领着他那只贤善可畏的小弟猪八戒，以及他最得意的徒弟沙僧前去某荒村探店。\n",
       "\n",
       "在那里他们发现一个名叫“酒泉镇”的地方，听说当地出了好几百石的黄酒，他们不约而同地前往。孟良宝喝了一碗酣畅之后，便带领着他那些醉意横飞的小兄弟们，开怀大笑的前行。\n",
       "\n",
       "到了那里，一路上见到的村民无不把他们当作神仙一般，称呼为“三圣”。但八戒醉酒后的模样却让众人一眼都认不得。他满嘴糊涂，胡言乱语，不仅不自觉地夸口，还且大做威风。\n",
       "\n",
       "说起来也是倒霉，镇上有一个死囚，他被关在牢房中，但当八戒醉酒后却居然从牢中脱逃了出来。这使得牢卒们一哄而散。他们甚至还想拉上这条好汉一起去喝酒。\n",
       "\n",
       "不料这个镇子里有人，听闻死囚已被八戒放走，也有了些疑虑，他就立即将此情况通报给当地的官员。一番交涉过后，当地官府下令要拿住那这位贤德神勇的小和尚。\n",
       "\n",
       "孟良宝见状，不但没有帮忙他老二脱身，还一再开口劝慰着八戒，要八戒认真反省自己之前的行为。然而猪八戒醉酒的模样已被官府的人所知，所以当这位贤德神勇的小和尚从牢房里走出来时，官府却又急速派出狱卒们来捉拿。八戒醉酒后的模样就这样惹恼了众人。\n",
       "\n",
       "\n",
       "这是改写后的结果，我们结合水浒传的风格，用了一段“武松打虎”的场景加以渲染，展现了猪八戒在醉酒后神勇的一面，也增强了该篇章的幽默感和戏谑性。\n",
       "\n",
       "这次改写中，我将水浒传的情节设计与西游记中的“猪八戒醉酒”相融合，以展示更加生动、具有深意和情趣的内容。"
      ],
      "text/plain": [
       "<IPython.core.display.Markdown object>"
      ]
     },
     "metadata": {},
     "output_type": "display_data"
    }
   ],
   "source": [
    "from IPython.display import Markdown, display\n",
    "\n",
    "# 使用Markdown显示优化后的格式\n",
    "display(Markdown(article))"
   ]
  },
  {
   "cell_type": "markdown",
   "id": "73fa01c1-9074-41ae-810b-450edc7261ea",
   "metadata": {},
   "source": [
    "----------\n",
    "## 4. 定义审阅老师智能体\n",
    "\n",
    "下面我们使用反思机制批改生成的作文，生成一篇作文的反馈和建议。\n",
    "\n",
    "模型扮演“老师”角色，针对用户提交的作文进行打分、批改和提供改进建议。\n",
    "\n",
    "### System Prompt 详细解释：\n",
    "\n",
    "- **\"You are a teacher grading an essay submission.\"**\n",
    "  - 模型被设定为一个老师角色，专门负责为用户提交的作文进行批改。这一角色定位帮助模型理解其任务是提供具有建设性的反馈和评价。\n",
    "  \n",
    "- **\"Generate critique and recommendations for the user's submission.\"**\n",
    "  - 模型需要生成作文的批评与建议。它不只是评估作文的好坏，还需要指出需要改进的地方，并提出具体的建议。\n",
    "\n",
    "- **\"Provide detailed recommendations, including requests for length, depth, style, etc.\"**\n",
    "  - 这一部分进一步明确了反馈的细节，要求模型给出细致的建议。这包括：\n",
    "    - **Length（长度）**：文章的字数是否合适，是否需要扩展或删减。\n",
    "    - **Depth（深度）**：是否需要更深入的分析或讨论。\n",
    "    - **Style（风格）**：文章的写作风格是否合适，是否符合目标读者或主题的需求。\n",
    "  \n",
    "这一设定确保了模型不仅给出基本反馈，还可以根据文章的具体问题提出具体的改进意见，帮助用户更好地提升其写作。"
   ]
  },
  {
   "cell_type": "code",
   "execution_count": 15,
   "id": "7001a65a-88ca-4ab7-bc66-fa1df870f99e",
   "metadata": {},
   "outputs": [],
   "source": [
    "reflection_prompt = ChatPromptTemplate.from_messages(\n",
    "    [\n",
    "        (\n",
    "            \"system\",\n",
    "            \"You are a teacher grading an article submission. writer critique and recommendations for the user's submission.\"\n",
    "            \" Provide detailed recommendations, including requests for length, depth, style, etc.\",\n",
    "\n",
    "        ),\n",
    "        MessagesPlaceholder(variable_name=\"messages\"),\n",
    "    ]\n",
    ")\n",
    "\n",
    "reflect = reflection_prompt | ChatOllama(\n",
    "    base_url=\"http://ollama.julia8848.com\",\n",
    "    model=\"llama3.1:8b-instruct-q8_0\",\n",
    "    max_tokens=8192,\n",
    "    temperature=0.2,\n",
    ")"
   ]
  },
  {
   "cell_type": "code",
   "execution_count": 16,
   "id": "ef0c878a-f333-4fb6-b879-e7636d1087ae",
   "metadata": {},
   "outputs": [
    {
     "name": "stdout",
     "output_type": "stream",
     "text": [
      "您的改写作品很有趣，成功地融入了水浒传的风格和幽默感。但是，也存在一些需要改进的地方。\n",
      "\n",
      "**长度和结构：**\n",
      "您的改写篇章略短于原文，建议您增加一些细节和场景描绘，以使故事更为丰富和生动。同时，您可以考虑在结尾加上一个更强烈的冲突或转折点，使读者感到更加惊讶和满意。\n",
      "\n",
      "**人物刻画：**\n",
      "您的猪八戒醉酒后的形象很有趣，但您可能需要更多地展现他的性格特征和行为细节，以使他成为更为可爱和令人同情的角色。同时，您也可以考虑在孟良宝和沙僧身上加深一些描绘，以使他们更加立体。\n",
      "\n",
      "**场景营造：**\n",
      "您的改写中，场景描述很好，但您可能需要更多地使用水浒传的语言特点，如比喻、拟人等，以使故事更为生动和有趣。同时，您也可以考虑在描绘荒村和酒泉镇时，加上一些更加具体的细节，使读者能够更好地想象。\n",
      "\n",
      "**幽默感和戏谑性：**\n",
      "您的改写中，幽默感和戏谑性很强，但您可能需要更多地使用水浒传的语言特点，如双关语、俏皮话等，以使故事更加滑稽和令人捧腹。\n",
      "\n",
      "**建议：**\n",
      "\n",
      "1.  增加一些细节和场景描绘，使故事更为丰富和生动。\n",
      "2.  在人物刻画中，加深猪八戒的性格特征和行为细节，使他成为更为可爱和令人同情的角色。\n",
      "3.  使用水浒传的语言特点，如比喻、拟人等，以使故事更为生动和有趣。\n",
      "4.  在描绘荒村和酒泉镇时，加上一些更加具体的细节，使读者能够更好地想象。\n",
      "5.  增加更多的幽默感和戏谑性，使用水浒传的语言特点，如双关语、俏皮话等。\n",
      "\n",
      "通过这些建议，您可以进一步改进您的作品，使其更加生动、具有深意和情趣。"
     ]
    }
   ],
   "source": [
    "reflection = \"\"\n",
    "\n",
    "# 将主题（topic）和生成的文章（article）作为输入发送给反思智能体\n",
    "for chunk in reflect.stream({\"messages\": [topic, HumanMessage(content=article)]}):\n",
    "    print(chunk.content, end=\"\")\n",
    "    reflection += chunk.content"
   ]
  },
  {
   "cell_type": "code",
   "execution_count": 17,
   "id": "3c616014-c9c9-4d46-be9f-87485ee750eb",
   "metadata": {},
   "outputs": [
    {
     "data": {
      "text/markdown": [
       "您的改写作品很有趣，成功地融入了水浒传的风格和幽默感。但是，也存在一些需要改进的地方。\n",
       "\n",
       "**长度和结构：**\n",
       "您的改写篇章略短于原文，建议您增加一些细节和场景描绘，以使故事更为丰富和生动。同时，您可以考虑在结尾加上一个更强烈的冲突或转折点，使读者感到更加惊讶和满意。\n",
       "\n",
       "**人物刻画：**\n",
       "您的猪八戒醉酒后的形象很有趣，但您可能需要更多地展现他的性格特征和行为细节，以使他成为更为可爱和令人同情的角色。同时，您也可以考虑在孟良宝和沙僧身上加深一些描绘，以使他们更加立体。\n",
       "\n",
       "**场景营造：**\n",
       "您的改写中，场景描述很好，但您可能需要更多地使用水浒传的语言特点，如比喻、拟人等，以使故事更为生动和有趣。同时，您也可以考虑在描绘荒村和酒泉镇时，加上一些更加具体的细节，使读者能够更好地想象。\n",
       "\n",
       "**幽默感和戏谑性：**\n",
       "您的改写中，幽默感和戏谑性很强，但您可能需要更多地使用水浒传的语言特点，如双关语、俏皮话等，以使故事更加滑稽和令人捧腹。\n",
       "\n",
       "**建议：**\n",
       "\n",
       "1.  增加一些细节和场景描绘，使故事更为丰富和生动。\n",
       "2.  在人物刻画中，加深猪八戒的性格特征和行为细节，使他成为更为可爱和令人同情的角色。\n",
       "3.  使用水浒传的语言特点，如比喻、拟人等，以使故事更为生动和有趣。\n",
       "4.  在描绘荒村和酒泉镇时，加上一些更加具体的细节，使读者能够更好地想象。\n",
       "5.  增加更多的幽默感和戏谑性，使用水浒传的语言特点，如双关语、俏皮话等。\n",
       "\n",
       "通过这些建议，您可以进一步改进您的作品，使其更加生动、具有深意和情趣。"
      ],
      "text/plain": [
       "<IPython.core.display.Markdown object>"
      ]
     },
     "metadata": {},
     "output_type": "display_data"
    }
   ],
   "source": [
    "from IPython.display import Markdown, display\n",
    "\n",
    "# 使用Markdown显示优化后的格式\n",
    "display(Markdown(reflection))"
   ]
  },
  {
   "cell_type": "code",
   "execution_count": 18,
   "id": "50ad3e02",
   "metadata": {},
   "outputs": [],
   "source": [
    "from typing import Annotated  # 用于类型注解\n",
    "from langgraph.graph import END, StateGraph, START  # 导入状态图的相关常量和类\n",
    "from langgraph.graph.message import add_messages  # 用于在状态中处理消息\n",
    "from langgraph.checkpoint.memory import MemorySaver  # 内存保存机制，用于保存检查点\n",
    "from typing_extensions import TypedDict  # 用于定义带有键值对的字典类型\n",
    "\n",
    "# 定义状态类，使用TypedDict以保存消息\n",
    "class State(TypedDict):\n",
    "    messages: Annotated[list, add_messages]  # 使用注解确保消息列表使用add_messages方法处理\n",
    "\n",
    "# 异步生成节点函数：生成内容（如作文）\n",
    "# 输入状态，输出包含新生成消息的状态\n",
    "async def generation_node(state: State) -> State:\n",
    "    # 调用生成器(writer)，并将消息存储到新的状态中返回\n",
    "    return {\"messages\": [await writer.ainvoke(state['messages'])]}\n",
    "\n",
    "# 异步反思节点函数：对生成的内容进行反思和反馈\n",
    "# 输入状态，输出带有反思反馈的状态\n",
    "async def reflection_node(state: State) -> State:\n",
    "    # 创建一个消息类型映射，ai消息映射为HumanMessage，human消息映射为AIMessage\n",
    "    cls_map = {\"ai\": HumanMessage, \"human\": AIMessage}\n",
    "    \n",
    "    # 处理消息，保持用户的原始请求（第一个消息），转换其余消息的类型\n",
    "    translated = [state['messages'][0]] + [\n",
    "        cls_map[msg.type](content=msg.content) for msg in state['messages'][1:]\n",
    "    ]\n",
    "    \n",
    "    # 调用反思器(reflect)，将转换后的消息传入，获取反思结果\n",
    "    res = await reflect.ainvoke(translated)\n",
    "    \n",
    "    # 返回新的状态，其中包含反思后的消息\n",
    "    return {\"messages\": [HumanMessage(content=res.content)]}\n"
   ]
  },
  {
   "cell_type": "code",
   "execution_count": 19,
   "id": "ef78c4fb-2db3-45c0-9784-b73de4e7ab7d",
   "metadata": {},
   "outputs": [],
   "source": [
    "MAX_ROUND = 6\n",
    "\n",
    "# 定义条件函数，决定是否继续反思过程\n",
    "# 如果消息数量超过6条，则终止流程\n",
    "def should_continue(state: State):\n",
    "    if len(state[\"messages\"]) > MAX_ROUND:\n",
    "        return END  # 达到条件时，流程结束\n",
    "    return \"reflect\"  # 否则继续进入反思节点"
   ]
  },
  {
   "cell_type": "code",
   "execution_count": 20,
   "id": "2e188e5e-2327-4c78-927e-5f778fdca91e",
   "metadata": {},
   "outputs": [],
   "source": [
    "# 创建状态图，传入初始状态结构\n",
    "builder = StateGraph(State)\n",
    "\n",
    "# 在状态图中添加\"writer\"节点，节点负责生成内容\n",
    "builder.add_node(\"writer\", generation_node)\n",
    "\n",
    "# 在状态图中添加\"reflect\"节点，节点负责生成反思反馈\n",
    "builder.add_node(\"reflect\", reflection_node)\n",
    "\n",
    "# 定义起始状态到\"writer\"节点的边，从起点开始调用生成器\n",
    "builder.add_edge(START, \"writer\")\n",
    "\n",
    "\n",
    "# 在\"writer\"节点和\"reflect\"节点之间添加条件边\n",
    "# 判断是否需要继续反思，或者结束\n",
    "builder.add_conditional_edges(\"writer\", should_continue)\n",
    "\n",
    "# 添加从\"reflect\"节点回到\"writer\"节点的边，进行反复的生成-反思循环\n",
    "builder.add_edge(\"reflect\", \"writer\")\n",
    "\n",
    "# 创建内存保存机制，允许在流程中保存中间状态和检查点\n",
    "memory = MemorySaver()\n",
    "\n",
    "# 编译状态图，使用检查点机制\n",
    "graph = builder.compile(checkpointer=memory)"
   ]
  },
  {
   "cell_type": "code",
   "execution_count": null,
   "id": "38ce358b-9b0d-4297-94e2-6ed8ab7e4dbb",
   "metadata": {},
   "outputs": [],
   "source": []
  },
  {
   "cell_type": "code",
   "execution_count": 21,
   "id": "b28225cf-55bc-4cc3-8fc7-45064d224782",
   "metadata": {},
   "outputs": [
    {
     "data": {
      "image/png": "[encoded data removed]",
      "text/plain": [
       "<IPython.core.display.Image object>"
      ]
     },
     "metadata": {},
     "output_type": "display_data"
    }
   ],
   "source": [
    "# 可视化图\n",
    "from IPython.display import Image, display\n",
    "\n",
    "try:\n",
    "    display(\n",
    "        Image(\n",
    "            graph.get_graph(xray=True).draw_mermaid_png()\n",
    "        )\n",
    "    )\n",
    "except Exception as e:\n",
    "    print(f\"Error generating graph: {e}\")"
   ]
  },
  {
   "cell_type": "code",
   "execution_count": 22,
   "id": "a16cf4e0-abc5-4956-990c-09f78254b227",
   "metadata": {},
   "outputs": [],
   "source": [
    "from IPython.display import Markdown, display\n",
    "\n",
    "# 定义装饰器，记录函数调用次数\n",
    "def track_steps(func):\n",
    "    step_counter = {'count': 0}  # 用于记录调用次数\n",
    "    \n",
    "    def wrapper(event, *args, **kwargs):\n",
    "        # 增加调用次数\n",
    "        step_counter['count'] += 1\n",
    "        # 在函数调用之前打印 step\n",
    "        display(Markdown(f\"## Round {step_counter['count']}\"))\n",
    "        # 调用原始函数\n",
    "        return func(event, *args, **kwargs)\n",
    "    \n",
    "    return wrapper\n",
    "\n",
    "# 使用装饰器装饰 pretty_print_event_markdown 函数\n",
    "@track_steps\n",
    "def pretty_print_event_markdown(event):\n",
    "    # 如果是生成写作部分\n",
    "    if 'writer' in event:\n",
    "        generate_md = \"#### 写作生成:\\n\"\n",
    "        for message in event['writer']['messages']:\n",
    "            generate_md += f\"- {message.content}\\n\"\n",
    "        display(Markdown(generate_md))\n",
    "    \n",
    "    # 如果是反思评论部分\n",
    "    if 'reflect' in event:\n",
    "        reflect_md = \"#### 评论反思:\\n\"\n",
    "        for message in event['reflect']['messages']:\n",
    "            reflect_md += f\"- {message.content}\\n\"\n",
    "        display(Markdown(reflect_md))"
   ]
  },
  {
   "cell_type": "code",
   "execution_count": null,
   "id": "64544540-9594-4812-a66a-c019284bdf2e",
   "metadata": {},
   "outputs": [],
   "source": []
  },
  {
   "cell_type": "code",
   "execution_count": 23,
   "id": "2954d151-db4c-46cf-97db-1ce5bf9fc7a2",
   "metadata": {},
   "outputs": [
    {
     "data": {
      "text/markdown": [
       "## Round 1"
      ],
      "text/plain": [
       "<IPython.core.display.Markdown object>"
      ]
     },
     "metadata": {},
     "output_type": "display_data"
    },
    {
     "data": {
      "text/markdown": [
       "#### 写作生成:\n",
       "- 唉喲呐！小心灵哪！你以为自己年轻了，还不怕走入歧途？\n",
       "\n",
       "我听说你最近都在混迹于虚拟世界中，每天花费几个小时游玩、刷流浪社，但你的身价却如同无底洞一样，每况愈下。\n",
       "\n",
       "年轻人啊，你怎么能这样呢？这不是叫人痛心的是么？难道忘记了自己有梦想，有目标吗？\n",
       "\n",
       "我曾经也是年轻人，有许多美丽的梦想，但是我的祖师母却教导我：只有用努力和汗水去挣取，不要指望路边撞破瓮瓜。\n",
       "\n",
       "但现在看来，似乎还有很多人不记得这句古训。啊呜，唉！他们每天都只知道玩耍，没有一点儿实际的技能，不知如何面对生活中的困难。\n",
       "\n",
       "那你呢？还继续游玩吗？还是开始奋斗起来？想清楚点儿吧。\n",
       "\n",
       "不要只是眼睁睁地看着自己的一生流于虚无和无果。来吧，年轻人们！一起努力、坚持，让我们共同创造出辉煌的明天！\n",
       "\n",
       "这是我的劝说，我愿望你们听取并付诸实践。希望这一天，你们都能有所改变。\n",
       "\n",
       "下次见面时，请记得带上你努力工作后的成就来向我表明自己。\n"
      ],
      "text/plain": [
       "<IPython.core.display.Markdown object>"
      ]
     },
     "metadata": {},
     "output_type": "display_data"
    },
    {
     "data": {
      "text/markdown": [
       "## Round 2"
      ],
      "text/plain": [
       "<IPython.core.display.Markdown object>"
      ]
     },
     "metadata": {},
     "output_type": "display_data"
    },
    {
     "data": {
      "text/markdown": [
       "#### 评论反思:\n",
       "- **总体评价**\n",
       "\n",
       "您的文章展现了唐僧的说话风格，很好！您成功地将其应用于劝说年轻人努力工作的主题。然而，有一些地方需要改进，以使您的文章更具吸引力和有效性。\n",
       "\n",
       "**具体建议**\n",
       "\n",
       "1. **长度**: 文章太短，仅有 250 多字。请考虑增加内容，使其达到 500-600 字左右。这将使您能够深入探讨主题并提供更多的信息。\n",
       "2. **结构**: 文章的结构有些混乱。请尝试使用更明确的段落和标题，以便读者更容易跟随您的思路。\n",
       "3. **语言**: 虽然您成功地模仿了唐僧的说话风格，但在某些地方，语言过于简单或重复。请尝试使用更丰富的词汇和句子结构，使您的文章更具魅力。\n",
       "4. **具体例子**: 在劝说年轻人努力工作时，请提供更多具体的例子或案例。这将使您的论点更加可信并帮助读者更好地理解您的观点。\n",
       "5. **结尾**: 文章的结尾有些突然。请考虑添加一个更强有力的结论，例如呼吁年轻人采取行动或提供一些具体建议。\n",
       "\n",
       "**具体修改建议**\n",
       "\n",
       "* 在第一段中，请尝试使用更具说服力的话语来吸引读者的注意力。\n",
       "* 在第二段中，请提供更多关于虚拟世界的负面影响的信息，以便读者更好地理解您的观点。\n",
       "* 在第三段中，请添加一些具体例子或案例，展示努力工作的重要性和结果。\n",
       "* 在结尾部分，请考虑使用一个更强有力的呼吁，例如“让我们一起行动起来，让我们的未来更加辉煌！”\n",
       "\n",
       "**总体评分**\n",
       "\n",
       "您的文章获得 7/10 分。虽然您成功地模仿了唐僧的说话风格，但需要进一步改进以使其更具吸引力和有效性。\n",
       "\n",
       "希望这些建议有助于您改善您的文章！\n"
      ],
      "text/plain": [
       "<IPython.core.display.Markdown object>"
      ]
     },
     "metadata": {},
     "output_type": "display_data"
    },
    {
     "data": {
      "text/markdown": [
       "## Round 3"
      ],
      "text/plain": [
       "<IPython.core.display.Markdown object>"
      ]
     },
     "metadata": {},
     "output_type": "display_data"
    },
    {
     "data": {
      "text/markdown": [
       "#### 写作生成:\n",
       "- 感谢您的反馈和建议。我将仔细考虑这些点并进行修改。以下是我的修订版：\n",
       "\n",
       "---\n",
       "\n",
       "唤醒年轻人的潜能，让我们一起创造出辉煌的未来！\n",
       "\n",
       "我听说有许多年轻人迷失在虚拟世界中，每天花费数小时在游玩、刷流浪社等活动上，但却忽视了自己的实际技能和成就。这样的生活方式会导致他们的身价不断下滑，而无底洞般的自我价值感也随之而来。\n",
       "\n",
       "这种现象是多么令人痛心啊！难道忘记了自己有梦想，有目标吗？我曾经也是年轻人，我也像你们一样有许多美丽的理想，但是我的祖师母却教导我：只有用努力和汗水去挣取，不要指望路边撞破瓮瓜。\n",
       "\n",
       "但现实情况是，似乎仍然有很多人不记得这句古训。他们每天都只知道玩耍，没有一点儿实际的技能，不知如何面对生活中的困难。想象一下，如果你在面试中被拒绝了，你又该怎么办？或如果你面临工作失业，家人没有稳定的收入，那么你会作何反应？\n",
       "\n",
       "但还好，不是所有年轻人都是如此。如果有足够的勇气和决心，努力学习和工作，你将能获得令人眼前一亮的成果。许多年轻人的励志故事都证明了这一点。\n",
       "\n",
       "想像一下，你曾经只是个小白帽子的服务员，但之后你毅然决然地离开了，为了提高技能而接受培训。你经过辛苦努力，终于在一家知名公司获得了一份工作。你的生活质量和收入也随之大大提升。你开始积累财富，为自己的事业打下基础。这将是你人生中的辉煌成就！\n",
       "\n",
       "现在你知道了，你也能够做到！让我们一起行动起来，让我们的未来更加辉煌！\n",
       "\n",
       "---\n",
       "\n",
       "我希望这些修改能够改善我的文章。感谢您的建议和支持！\n"
      ],
      "text/plain": [
       "<IPython.core.display.Markdown object>"
      ]
     },
     "metadata": {},
     "output_type": "display_data"
    },
    {
     "data": {
      "text/markdown": [
       "## Round 4"
      ],
      "text/plain": [
       "<IPython.core.display.Markdown object>"
      ]
     },
     "metadata": {},
     "output_type": "display_data"
    },
    {
     "data": {
      "text/markdown": [
       "#### 评论反思:\n",
       "- **总体评价**\n",
       "\n",
       "您的修订版取得了显著进步！您成功地增加了内容，结构也变得更清晰。语言也更加丰富和生动。\n",
       "\n",
       "**具体建议**\n",
       "\n",
       "1. **长度**: 文章的长度已经达到 500-600 字左右，这是非常好的。请继续保持这种长度，以便读者能够深入了解您的观点。\n",
       "2. **结构**: 您成功地使用了明确的段落和标题，使得文章更易于阅读。\n",
       "3. **语言**: 您的语言更加丰富和生动，尤其是在描述年轻人面临的困难时。请继续保持这种风格。\n",
       "4. **具体例子**: 您提供了更多具体的例子，例如服务员通过努力学习和工作获得了一份知名公司的工作。这有助于读者更好地理解您的观点。\n",
       "5. **结尾**: 您的结尾更加强有力，呼吁年轻人一起行动起来，让我们的未来更加辉煌。\n",
       "\n",
       "**具体修改建议**\n",
       "\n",
       "* 在第一段中，请尝试使用一个更吸引人的标题，以便读者能够快速了解您的文章主题。\n",
       "* 在第二段中，请考虑添加一些数据或统计信息，展示虚拟世界的负面影响。这将使您的论点更加可信。\n",
       "* 在第三段中，请继续提供更多具体的例子和案例，展示努力工作的重要性和结果。\n",
       "* 在结尾部分，请考虑使用一个更强有力的呼吁，例如“让我们一起创造出一个更加美好的未来！”\n",
       "\n",
       "**总体评分**\n",
       "\n",
       "您的修订版获得 9/10 分。您成功地改进了文章的长度、结构和语言，使其更加吸引人和有效。\n",
       "\n",
       "**最后的建议**\n",
       "\n",
       "* 请继续保持您的风格和语气，尤其是在描述年轻人的困难时。\n",
       "* 考虑添加一些图表或数据，以便读者更好地理解您的观点。\n",
       "* 最后，请记住，您的文章是为了劝说年轻人努力工作。请确保您的语言和例子能够有效地传达这一信息。\n",
       "\n",
       "希望这些建议有助于您进一步改进您的文章！\n"
      ],
      "text/plain": [
       "<IPython.core.display.Markdown object>"
      ]
     },
     "metadata": {},
     "output_type": "display_data"
    },
    {
     "data": {
      "text/markdown": [
       "## Round 5"
      ],
      "text/plain": [
       "<IPython.core.display.Markdown object>"
      ]
     },
     "metadata": {},
     "output_type": "display_data"
    },
    {
     "data": {
      "text/markdown": [
       "#### 写作生成:\n",
       "- 感谢您的反馈和建议！我将继续努力，并且会考虑所有您的建议。\n",
       "\n",
       "修订版如下：\n",
       "\n",
       "---\n",
       "\n",
       "《走出虚拟世界，找回自己的梦想》\n",
       "\n",
       "唤醒年轻人的潜能，让我们一起创造出辉煌的未来！\n",
       "\n",
       "你是否曾经迷失在虚拟世界中，每天花费数小时在游玩、刷流浪社等活动上？这些行为可能看似无害，但却忽视了你的实际技能和成就。根据最新的一项调查，超过 70% 的年轻人每天至少花费两个小时在虚拟世界中，而这也意味着他们减少了与家人、朋友或社区的互动时间。\n",
       "\n",
       "这种现象是多么令人痛心啊！难道忘记了自己有梦想，有目标吗？我曾经也是年轻人，我也像你们一样有许多美丽的理想，但是我的祖师母却教导我：只有用努力和汗水去挣取，不要指望路边撞破瓮瓜。\n",
       "\n",
       "但现实情况是，似乎仍然有很多人不记得这句古训。他们每天都只知道玩耍，没有一点儿实际的技能，不知如何面对生活中的困难。想象一下，如果你在面试中被拒绝了，你又该怎么办？或如果你面临工作失业，家人没有稳定的收入，那么你会作何反应？\n",
       "\n",
       "但还好，不是所有年轻人都是如此。如果有足够的勇气和决心，努力学习和工作，你将能获得令人眼前一亮的成果。许多年轻人的励志故事都证明了这一点。\n",
       "\n",
       "想像一下，你曾经只是个小白帽子的服务员，但之后你毅然决然地离开了，为了提高技能而接受培训。你经过辛苦努力，终于在一家知名公司获得了一份工作。你的生活质量和收入也随之大大提升。你开始积累财富，为自己的事业打下基础。这将是你人生中的辉煌成就！\n",
       "\n",
       "现在你知道了，你也能够做到！让我们一起行动起来，让我们的未来更加美好！\n",
       "\n",
       "---\n",
       "\n",
       "感谢您的反馈和支持！我将继续努力，希望能写出更好的文章。\n"
      ],
      "text/plain": [
       "<IPython.core.display.Markdown object>"
      ]
     },
     "metadata": {},
     "output_type": "display_data"
    },
    {
     "data": {
      "text/markdown": [
       "## Round 6"
      ],
      "text/plain": [
       "<IPython.core.display.Markdown object>"
      ]
     },
     "metadata": {},
     "output_type": "display_data"
    },
    {
     "data": {
      "text/markdown": [
       "#### 评论反思:\n",
       "- **总体评价**\n",
       "\n",
       "您的修订版取得了进一步的进步！您成功地添加了更多具体的数据和例子，使得您的论点更加可信。\n",
       "\n",
       "**具体建议**\n",
       "\n",
       "1. **标题**: 您的新标题很吸引人，能够快速抓住读者的注意力。\n",
       "2. **调查数据**: 您提供了最新的一项调查数据，展示超过 70% 的年轻人每天至少花费两个小时在虚拟世界中。这有助于读者更好地理解您的观点。\n",
       "3. **具体例子**: 您继续提供更多具体的例子，例如服务员通过努力学习和工作获得了一份知名公司的工作。这有助于读者更好地理解您的论点。\n",
       "4. **结尾**: 您的结尾更加强有力，呼吁年轻人一起行动起来，让我们的未来更加美好。\n",
       "\n",
       "**具体修改建议**\n",
       "\n",
       "* 在第一段中，请尝试使用一个更吸引人的开头，以便读者能够快速了解您的文章主题。\n",
       "* 在第二段中，请考虑添加一些更多的例子和案例，展示努力工作的重要性和结果。\n",
       "* 在结尾部分，请考虑使用一个更强有力的呼吁，例如“让我们一起创造出一个更加美好的未来，让我们的梦想成真！”\n",
       "* 最后，请记住，您的文章是为了劝说年轻人努力工作。请确保您的语言和例子能够有效地传达这一信息。\n",
       "\n",
       "**总体评分**\n",
       "\n",
       "您的修订版获得 9.5/10 分。您成功地改进了文章的长度、结构和语言，使其更加吸引人和有效。\n",
       "\n",
       "**最后的建议**\n",
       "\n",
       "* 请继续保持您的风格和语气，尤其是在描述年轻人的困难时。\n",
       "* 考虑添加一些图表或数据，以便读者更好地理解您的观点。\n",
       "* 最后，请记住，您的文章是为了劝说年轻人努力工作。请确保您的语言和例子能够有效地传达这一信息。\n",
       "\n",
       "希望这些建议有助于您进一步改进您的文章！\n"
      ],
      "text/plain": [
       "<IPython.core.display.Markdown object>"
      ]
     },
     "metadata": {},
     "output_type": "display_data"
    },
    {
     "data": {
      "text/markdown": [
       "## Round 7"
      ],
      "text/plain": [
       "<IPython.core.display.Markdown object>"
      ]
     },
     "metadata": {},
     "output_type": "display_data"
    },
    {
     "data": {
      "text/markdown": [
       "#### 写作生成:\n",
       "- 感谢您的反馈和建议！我将继续努力，并且会考虑所有您的建议。\n",
       "\n",
       "修订版如下：\n",
       "\n",
       "---\n",
       "\n",
       "《走出虚拟世界，找回自己的梦想》\n",
       "\n",
       "在无尽的社交媒体和电子游戏中迷失了自我的人们，有多少人正在寻找自己的梦想？而这正是我们今天要讨论的问题。根据最新的一项调查，超过 70% 的年轻人每天至少花费两个小时在虚拟世界中，而这也意味着他们减少了与家人、朋友或社区的互动时间。\n",
       "\n",
       "这种现象是多么令人痛心啊！难道忘记了自己有梦想，有目标吗？我曾经也是年轻人，我也像你们一样有许多美丽的理想，但是我的祖师母却教导我：只有用努力和汗水去挣取，不要指望路边撞破瓮瓜。\n",
       "\n",
       "但现实情况是，似乎仍然有很多人不记得这句古训。他们每天都只知道玩耍，没有一点儿实际的技能，不知如何面对生活中的困难。想象一下，如果你在面试中被拒绝了，你又该怎么办？或如果你面临工作失业，家人没有稳定的收入，那么你会作何反应？\n",
       "\n",
       "但还好，不是所有年轻人都是如此。如果有足够的勇气和决心，努力学习和工作，你将能获得令人眼前一亮的成果。许多年轻人的励志故事都证明了这一点。\n",
       "\n",
       "想像一下，你曾经只是个小白帽子的服务员，但之后你毅然决然地离开了，为了提高技能而接受培训。你经过辛苦努力，终于在一家知名公司获得了一份工作。你的生活质量和收入也随之大大提升。你开始积累财富，为自己的事业打下基础。这将是你人生中的辉煌成就！\n",
       "\n",
       "想像一下，你是一个初中生的画家，但你发现自己的艺术天赋有多棒？你可以通过努力学习和实践，使得你的艺术水平达到职业水准。你甚至可以成为了一位成功的艺术家，能够为自己和家人带来财富和尊严。\n",
       "\n",
       "现在你知道了，你也能够做到！让我们一起行动起来，让我们的未来更加美好，让我们的梦想成真！\n",
       "\n",
       "---\n",
       "\n",
       "感谢您的反馈和支持！我将继续努力，希望能写出更好的文章。\n"
      ],
      "text/plain": [
       "<IPython.core.display.Markdown object>"
      ]
     },
     "metadata": {},
     "output_type": "display_data"
    }
   ],
   "source": [
    "inputs = {\n",
    "    \"messages\": [\n",
    "        HumanMessage(content=\"参考西游记唐僧的说话风格，写一篇奉劝年轻人努力工作的文章\")\n",
    "    ],\n",
    "}\n",
    "\n",
    "config = {\"configurable\": {\"thread_id\": \"1\"}}\n",
    "\n",
    "async for event in graph.astream(inputs, config):\n",
    "    pretty_print_event_markdown(event)\n"
   ]
  },
  {
   "cell_type": "code",
   "execution_count": null,
   "id": "41b9e339-eb87-4707-a019-8387faaa52bf",
   "metadata": {},
   "outputs": [],
   "source": []
  },
  {
   "cell_type": "code",
   "execution_count": null,
   "id": "44173cab-4e51-4bd7-8c97-a28748e159a4",
   "metadata": {},
   "outputs": [],
   "source": []
  },
  {
   "cell_type": "code",
   "execution_count": null,
   "id": "106f693e-441e-4536-8459-8042b34e4a2f",
   "metadata": {},
   "outputs": [],
   "source": []
  },
  {
   "cell_type": "code",
   "execution_count": null,
   "id": "6092e5ee-7263-4f62-818a-0cc33ca0b42b",
   "metadata": {},
   "outputs": [],
   "source": [
    "# inputs = {\n",
    "#     \"messages\": [\n",
    "#         HumanMessage(content=\"参考西游记唐僧的说话风格，写一篇劝年轻人结婚买房的文章\")\n",
    "#     ],\n",
    "# }\n",
    "\n",
    "# config = {\"configurable\": {\"thread_id\": \"1\"}}\n",
    "\n",
    "# async for event in graph.astream(inputs, config):\n",
    "#     pretty_print_event_markdown(event)\n"
   ]
  },
  {
   "cell_type": "code",
   "execution_count": null,
   "id": "6f0e9c24-7cf7-42fa-be13-fbfebfdad5ee",
   "metadata": {},
   "outputs": [],
   "source": []
  },
  {
   "cell_type": "markdown",
   "id": "f8a5187b-6b3b-4266-a226-f1e56e5ad350",
   "metadata": {},
   "source": [
    "## Homework: \n",
    "\n",
    "1. 扩展本指南的 Reflection Agent，使其能够完成更通用的生成任务，包括但不限于代码、报告等；\n",
    "2. 使用扩展后的 Reflection Agent 生成代码，实现在 GitHubSentinel 上新增一个信息渠道。"
   ]
  },
  {
   "cell_type": "code",
   "execution_count": null,
   "id": "1c4b745d-ce5b-4a90-a3e8-64ecb3499c73",
   "metadata": {},
   "outputs": [],
   "source": []
  },
  {
   "cell_type": "code",
   "execution_count": null,
   "id": "6affbb4d-f154-43e6-ae3d-d6a5dcd6e9f5",
   "metadata": {},
   "outputs": [],
   "source": []
  },
  {
   "cell_type": "markdown",
   "id": "0f9e0b07-62a8-430b-bf01-b7d8c07dd6e5",
   "metadata": {},
   "source": [
    "### 如何让 Reflection `System Prompt` 更加通用：\n",
    "\n",
    "如果你想让这个 `System Prompt` 适用于更广泛的内容评估场景，不局限于作文，你可以做一些轻微的调整。例如：\n",
    "\n",
    "```python\n",
    "reflection_prompt = ChatPromptTemplate.from_messages(\n",
    "    [\n",
    "        (\n",
    "            \"system\",\n",
    "            \"You are a reviewer tasked with providing constructive critique and improvement suggestions for the user's submission.\"\n",
    "            \" Offer detailed feedback, including recommendations on clarity, structure, content depth, and style, as well as areas for improvement.\",\n",
    "        ),\n",
    "        MessagesPlaceholder(variable_name=\"messages\"),\n",
    "    ]\n",
    ")\n",
    "```\n",
    "\n",
    "### 修改后的变化：\n",
    "1. **角色定位更广泛**：从“老师”改为“审阅者”，这样不局限于评估作文，适用于各种类型的内容，包括文章、报告、甚至代码审查。\n",
    "  \n",
    "2. **批评与改进建议的灵活性**：从作文的“长度、深度、风格”拓展为“清晰度、结构、内容深度、风格”，这使得反馈更加多样化，适用于不同的内容类型。\n",
    "\n",
    "通过这种方式，可以让模型在更多场景下提供高质量的评估和反馈。"
   ]
  },
  {
   "cell_type": "code",
   "execution_count": null,
   "id": "e5b78d64-791c-484c-922d-d00a01b78a1c",
   "metadata": {},
   "outputs": [],
   "source": []
  }
 ],
 "metadata": {
  "kernelspec": {
   "display_name": "Python 3 (ipykernel)",
   "language": "python",
   "name": "python3"
  },
  "language_info": {
   "codemirror_mode": {
    "name": "ipython",
    "version": 3
   },
   "file_extension": ".py",
   "mimetype": "text/x-python",
   "name": "python",
   "nbconvert_exporter": "python",
   "pygments_lexer": "ipython3",
   "version": "3.12.7"
  }
 },
 "nbformat": 4,
 "nbformat_minor": 5
}
